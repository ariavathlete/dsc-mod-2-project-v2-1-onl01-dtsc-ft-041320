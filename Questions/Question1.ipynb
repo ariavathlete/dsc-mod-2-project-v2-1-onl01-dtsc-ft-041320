{
 "cells": [
  {
   "cell_type": "markdown",
   "metadata": {},
   "source": [
    "# Question 1: How are Houses in Kings County Distributed and the effect of Zipcodes on price"
   ]
  },
  {
   "cell_type": "markdown",
   "metadata": {},
   "source": [
    "**Are some zip codes more densely built up than others?**\n",
    "\n",
    "Yes, zipcodes directly surrounding Bellevue have higher counts of houses than zip codes further out. \n",
    "\n",
    "\n",
    "**Do House Prices vary by Zipcode**\n",
    "\n",
    "From below, it is clear that the average house price is very different based on the zipcode\n",
    "\n",
    "**Where are the most expensive houses located**\n",
    "\n",
    "Houses in the North of the County, notably surrounding bellevue, are the most expensive\n",
    "\n",
    "With houses in the south of the county being cheaper"
   ]
  },
  {
   "cell_type": "code",
   "execution_count": 1,
   "metadata": {},
   "outputs": [],
   "source": [
    "import pandas as pd\n",
    "import json\n",
    "import folium\n",
    "from folium.plugins import MarkerCluster # for clustering the markers\n",
    "import matplotlib.pyplot as plt\n",
    "import seaborn as sns\n",
    "import matplotlib as mpl\n",
    "import scipy.stats as scs\n",
    "import numpy as np\n",
    "import MyMaps"
   ]
  },
  {
   "cell_type": "code",
   "execution_count": 2,
   "metadata": {},
   "outputs": [],
   "source": [
    "df= pd.read_csv('~/flatiron/mod2/dsc-mod-2-project-v2-1-onl01-dtsc-ft-041320/csv/datawithnewcols.csv',index_col=0)"
   ]
  },
  {
   "cell_type": "code",
   "execution_count": 3,
   "metadata": {},
   "outputs": [
    {
     "data": {
      "text/plain": [
       "1300    125\n",
       "1440    121\n",
       "1400    120\n",
       "1820    118\n",
       "1660    113\n",
       "       ... \n",
       "1048      1\n",
       "3273      1\n",
       "1256      1\n",
       "3305      1\n",
       "2153      1\n",
       "Name: sqft_living, Length: 925, dtype: int64"
      ]
     },
     "execution_count": 3,
     "metadata": {},
     "output_type": "execute_result"
    }
   ],
   "source": [
    "df['sqft_living'].value_counts()"
   ]
  },
  {
   "cell_type": "code",
   "execution_count": 4,
   "metadata": {},
   "outputs": [
    {
     "data": {
      "text/html": [
       "<div>\n",
       "<style scoped>\n",
       "    .dataframe tbody tr th:only-of-type {\n",
       "        vertical-align: middle;\n",
       "    }\n",
       "\n",
       "    .dataframe tbody tr th {\n",
       "        vertical-align: top;\n",
       "    }\n",
       "\n",
       "    .dataframe thead th {\n",
       "        text-align: right;\n",
       "    }\n",
       "</style>\n",
       "<table border=\"1\" class=\"dataframe\">\n",
       "  <thead>\n",
       "    <tr style=\"text-align: right;\">\n",
       "      <th></th>\n",
       "      <th>date</th>\n",
       "      <th>price</th>\n",
       "      <th>bedrooms</th>\n",
       "      <th>bathrooms</th>\n",
       "      <th>sqft_living</th>\n",
       "      <th>sqft_lot</th>\n",
       "      <th>floors</th>\n",
       "      <th>waterfront</th>\n",
       "      <th>view</th>\n",
       "      <th>condition</th>\n",
       "      <th>...</th>\n",
       "      <th>long</th>\n",
       "      <th>sqft_living15</th>\n",
       "      <th>sqft_lot15</th>\n",
       "      <th>Age_of_House</th>\n",
       "      <th>Years_last_renovation</th>\n",
       "      <th>basement</th>\n",
       "      <th>distance_from_seattle</th>\n",
       "      <th>distance_from_bellevue</th>\n",
       "      <th>distance_from_a_city</th>\n",
       "      <th>distance_from_airport</th>\n",
       "    </tr>\n",
       "  </thead>\n",
       "  <tbody>\n",
       "    <tr>\n",
       "      <td>1</td>\n",
       "      <td>2014-12-09</td>\n",
       "      <td>538000.0</td>\n",
       "      <td>3</td>\n",
       "      <td>2.25</td>\n",
       "      <td>2570</td>\n",
       "      <td>7242</td>\n",
       "      <td>2.0</td>\n",
       "      <td>0.0</td>\n",
       "      <td>0.0</td>\n",
       "      <td>3</td>\n",
       "      <td>...</td>\n",
       "      <td>-122.319</td>\n",
       "      <td>1690</td>\n",
       "      <td>7639</td>\n",
       "      <td>69</td>\n",
       "      <td>29</td>\n",
       "      <td>True</td>\n",
       "      <td>12.613856</td>\n",
       "      <td>15.150174</td>\n",
       "      <td>12.613856</td>\n",
       "      <td>30.859494</td>\n",
       "    </tr>\n",
       "    <tr>\n",
       "      <td>2</td>\n",
       "      <td>2015-02-25</td>\n",
       "      <td>180000.0</td>\n",
       "      <td>2</td>\n",
       "      <td>1.00</td>\n",
       "      <td>770</td>\n",
       "      <td>10000</td>\n",
       "      <td>1.0</td>\n",
       "      <td>0.0</td>\n",
       "      <td>0.0</td>\n",
       "      <td>3</td>\n",
       "      <td>...</td>\n",
       "      <td>-122.233</td>\n",
       "      <td>2720</td>\n",
       "      <td>8062</td>\n",
       "      <td>87</td>\n",
       "      <td>87</td>\n",
       "      <td>False</td>\n",
       "      <td>16.333282</td>\n",
       "      <td>14.375822</td>\n",
       "      <td>14.375822</td>\n",
       "      <td>33.112379</td>\n",
       "    </tr>\n",
       "    <tr>\n",
       "      <td>3</td>\n",
       "      <td>2014-12-09</td>\n",
       "      <td>604000.0</td>\n",
       "      <td>4</td>\n",
       "      <td>3.00</td>\n",
       "      <td>1960</td>\n",
       "      <td>5000</td>\n",
       "      <td>1.0</td>\n",
       "      <td>0.0</td>\n",
       "      <td>0.0</td>\n",
       "      <td>5</td>\n",
       "      <td>...</td>\n",
       "      <td>-122.393</td>\n",
       "      <td>1360</td>\n",
       "      <td>5000</td>\n",
       "      <td>55</td>\n",
       "      <td>55</td>\n",
       "      <td>True</td>\n",
       "      <td>10.617501</td>\n",
       "      <td>17.522706</td>\n",
       "      <td>10.617501</td>\n",
       "      <td>10.988905</td>\n",
       "    </tr>\n",
       "    <tr>\n",
       "      <td>4</td>\n",
       "      <td>2015-02-18</td>\n",
       "      <td>510000.0</td>\n",
       "      <td>3</td>\n",
       "      <td>2.00</td>\n",
       "      <td>1680</td>\n",
       "      <td>8080</td>\n",
       "      <td>1.0</td>\n",
       "      <td>0.0</td>\n",
       "      <td>0.0</td>\n",
       "      <td>3</td>\n",
       "      <td>...</td>\n",
       "      <td>-122.045</td>\n",
       "      <td>1800</td>\n",
       "      <td>7503</td>\n",
       "      <td>33</td>\n",
       "      <td>33</td>\n",
       "      <td>False</td>\n",
       "      <td>21.759524</td>\n",
       "      <td>11.683886</td>\n",
       "      <td>11.683886</td>\n",
       "      <td>27.230991</td>\n",
       "    </tr>\n",
       "    <tr>\n",
       "      <td>5</td>\n",
       "      <td>2014-05-12</td>\n",
       "      <td>1230000.0</td>\n",
       "      <td>4</td>\n",
       "      <td>4.50</td>\n",
       "      <td>5420</td>\n",
       "      <td>101930</td>\n",
       "      <td>1.0</td>\n",
       "      <td>0.0</td>\n",
       "      <td>0.0</td>\n",
       "      <td>3</td>\n",
       "      <td>...</td>\n",
       "      <td>-122.005</td>\n",
       "      <td>4760</td>\n",
       "      <td>101930</td>\n",
       "      <td>19</td>\n",
       "      <td>19</td>\n",
       "      <td>True</td>\n",
       "      <td>25.295727</td>\n",
       "      <td>15.508940</td>\n",
       "      <td>15.508940</td>\n",
       "      <td>32.449837</td>\n",
       "    </tr>\n",
       "  </tbody>\n",
       "</table>\n",
       "<p>5 rows × 27 columns</p>\n",
       "</div>"
      ],
      "text/plain": [
       "         date      price  bedrooms  bathrooms  sqft_living  sqft_lot  floors  \\\n",
       "1  2014-12-09   538000.0         3       2.25         2570      7242     2.0   \n",
       "2  2015-02-25   180000.0         2       1.00          770     10000     1.0   \n",
       "3  2014-12-09   604000.0         4       3.00         1960      5000     1.0   \n",
       "4  2015-02-18   510000.0         3       2.00         1680      8080     1.0   \n",
       "5  2014-05-12  1230000.0         4       4.50         5420    101930     1.0   \n",
       "\n",
       "   waterfront  view  condition  ...     long  sqft_living15  sqft_lot15  \\\n",
       "1         0.0   0.0          3  ... -122.319           1690        7639   \n",
       "2         0.0   0.0          3  ... -122.233           2720        8062   \n",
       "3         0.0   0.0          5  ... -122.393           1360        5000   \n",
       "4         0.0   0.0          3  ... -122.045           1800        7503   \n",
       "5         0.0   0.0          3  ... -122.005           4760      101930   \n",
       "\n",
       "   Age_of_House  Years_last_renovation  basement  distance_from_seattle  \\\n",
       "1            69                     29      True              12.613856   \n",
       "2            87                     87     False              16.333282   \n",
       "3            55                     55      True              10.617501   \n",
       "4            33                     33     False              21.759524   \n",
       "5            19                     19      True              25.295727   \n",
       "\n",
       "   distance_from_bellevue  distance_from_a_city  distance_from_airport  \n",
       "1               15.150174             12.613856              30.859494  \n",
       "2               14.375822             14.375822              33.112379  \n",
       "3               17.522706             10.617501              10.988905  \n",
       "4               11.683886             11.683886              27.230991  \n",
       "5               15.508940             15.508940              32.449837  \n",
       "\n",
       "[5 rows x 27 columns]"
      ]
     },
     "execution_count": 4,
     "metadata": {},
     "output_type": "execute_result"
    }
   ],
   "source": [
    "df.head()"
   ]
  },
  {
   "cell_type": "code",
   "execution_count": 5,
   "metadata": {},
   "outputs": [],
   "source": [
    "zipcodedf = df.groupby('zipcode')['price'].agg(['mean','count','median'])\n",
    "zipcodedf.reset_index(inplace = True)"
   ]
  },
  {
   "cell_type": "code",
   "execution_count": 6,
   "metadata": {},
   "outputs": [],
   "source": [
    "zipcodedf['zipcode'] = zipcodedf['zipcode'].map(lambda x:str(x))\n",
    "zipcodedf['mean'] = zipcodedf['mean'].astype('int64')"
   ]
  },
  {
   "cell_type": "code",
   "execution_count": null,
   "metadata": {},
   "outputs": [],
   "source": []
  },
  {
   "cell_type": "code",
   "execution_count": 7,
   "metadata": {},
   "outputs": [
    {
     "data": {
      "image/png": "[encoded data removed]",
      "text/plain": [
       "<Figure size 432x288 with 1 Axes>"
      ]
     },
     "metadata": {
      "needs_background": "light"
     },
     "output_type": "display_data"
    }
   ],
   "source": [
    "df['price'].hist();"
   ]
  },
  {
   "cell_type": "code",
   "execution_count": 8,
   "metadata": {},
   "outputs": [
    {
     "data": {
      "text/html": [
       "<div>\n",
       "<style scoped>\n",
       "    .dataframe tbody tr th:only-of-type {\n",
       "        vertical-align: middle;\n",
       "    }\n",
       "\n",
       "    .dataframe tbody tr th {\n",
       "        vertical-align: top;\n",
       "    }\n",
       "\n",
       "    .dataframe thead th {\n",
       "        text-align: right;\n",
       "    }\n",
       "</style>\n",
       "<table border=\"1\" class=\"dataframe\">\n",
       "  <thead>\n",
       "    <tr style=\"text-align: right;\">\n",
       "      <th></th>\n",
       "      <th>zipcode</th>\n",
       "      <th>mean</th>\n",
       "      <th>count</th>\n",
       "      <th>median</th>\n",
       "    </tr>\n",
       "  </thead>\n",
       "  <tbody>\n",
       "    <tr>\n",
       "      <td>0</td>\n",
       "      <td>98001</td>\n",
       "      <td>278733</td>\n",
       "      <td>328</td>\n",
       "      <td>259450.0</td>\n",
       "    </tr>\n",
       "    <tr>\n",
       "      <td>1</td>\n",
       "      <td>98002</td>\n",
       "      <td>234927</td>\n",
       "      <td>178</td>\n",
       "      <td>235000.0</td>\n",
       "    </tr>\n",
       "    <tr>\n",
       "      <td>2</td>\n",
       "      <td>98003</td>\n",
       "      <td>288682</td>\n",
       "      <td>255</td>\n",
       "      <td>264000.0</td>\n",
       "    </tr>\n",
       "    <tr>\n",
       "      <td>3</td>\n",
       "      <td>98004</td>\n",
       "      <td>1175578</td>\n",
       "      <td>250</td>\n",
       "      <td>1050000.0</td>\n",
       "    </tr>\n",
       "    <tr>\n",
       "      <td>4</td>\n",
       "      <td>98005</td>\n",
       "      <td>813864</td>\n",
       "      <td>158</td>\n",
       "      <td>772325.0</td>\n",
       "    </tr>\n",
       "  </tbody>\n",
       "</table>\n",
       "</div>"
      ],
      "text/plain": [
       "  zipcode     mean  count     median\n",
       "0   98001   278733    328   259450.0\n",
       "1   98002   234927    178   235000.0\n",
       "2   98003   288682    255   264000.0\n",
       "3   98004  1175578    250  1050000.0\n",
       "4   98005   813864    158   772325.0"
      ]
     },
     "execution_count": 8,
     "metadata": {},
     "output_type": "execute_result"
    }
   ],
   "source": [
    "zipcodedf.head()"
   ]
  },
  {
   "cell_type": "code",
   "execution_count": 12,
   "metadata": {},
   "outputs": [
    {
     "ename": "OSError",
     "evalue": "[Errno 22] Invalid argument: '~\\x0clatiron\\\\mod2\\\\dsc-mod-2-project-v2-1-onl01-dtsc-ft-041320/Zip_Codes.geojson'",
     "output_type": "error",
     "traceback": [
      "\u001b[1;31m---------------------------------------------------------------------------\u001b[0m",
      "\u001b[1;31mOSError\u001b[0m                                   Traceback (most recent call last)",
      "\u001b[1;32m<ipython-input-12-0ba38844b4f6>\u001b[0m in \u001b[0;36m<module>\u001b[1;34m\u001b[0m\n\u001b[1;32m----> 1\u001b[1;33m \u001b[1;32mwith\u001b[0m \u001b[0mopen\u001b[0m\u001b[1;33m(\u001b[0m\u001b[1;34m'~\\flatiron\\mod2\\dsc-mod-2-project-v2-1-onl01-dtsc-ft-041320/Zip_Codes.geojson'\u001b[0m\u001b[1;33m,\u001b[0m\u001b[1;34m'r'\u001b[0m\u001b[1;33m)\u001b[0m \u001b[1;32mas\u001b[0m \u001b[0mjsonFile\u001b[0m\u001b[1;33m:\u001b[0m\u001b[1;33m\u001b[0m\u001b[1;33m\u001b[0m\u001b[0m\n\u001b[0m\u001b[0;32m      2\u001b[0m     \u001b[0mdata\u001b[0m \u001b[1;33m=\u001b[0m \u001b[0mjson\u001b[0m\u001b[1;33m.\u001b[0m\u001b[0mload\u001b[0m\u001b[1;33m(\u001b[0m\u001b[0mjsonFile\u001b[0m\u001b[1;33m)\u001b[0m\u001b[1;33m\u001b[0m\u001b[1;33m\u001b[0m\u001b[0m\n",
      "\u001b[1;31mOSError\u001b[0m: [Errno 22] Invalid argument: '~\\x0clatiron\\\\mod2\\\\dsc-mod-2-project-v2-1-onl01-dtsc-ft-041320/Zip_Codes.geojson'"
     ]
    }
   ],
   "source": [
    "with open('~\\flatiron\\mod2\\dsc-mod-2-project-v2-1-onl01-dtsc-ft-041320/Zip_Codes.geojson','r') as jsonFile:\n",
    "    data = json.load(jsonFile)"
   ]
  },
  {
   "cell_type": "code",
   "execution_count": null,
   "metadata": {},
   "outputs": [],
   "source": [
    "geozips = []\n",
    "for i in range(len(data['features'])):\n",
    "    if data['features'][i]['properties']['ZIPCODE'] in list(zipcodedf['zipcode'].unique()):\n",
    "        geozips.append(data['features'][i])\n"
   ]
  },
  {
   "cell_type": "code",
   "execution_count": null,
   "metadata": {},
   "outputs": [],
   "source": [
    "new_json = dict.fromkeys(['type','feature'])\n",
    "new_json['type'] = 'FeatureCollection'\n",
    "new_json['features'] = geozips"
   ]
  },
  {
   "cell_type": "code",
   "execution_count": null,
   "metadata": {},
   "outputs": [],
   "source": [
    "open(\"../data/cleaned_geodata.json\", \"w\").write(json.dumps(new_json, sort_keys=True, indent=4, separators=(',', ': ')))"
   ]
  },
  {
   "cell_type": "code",
   "execution_count": null,
   "metadata": {},
   "outputs": [],
   "source": [
    "kc_geo = r'../data/cleaned_geodata.json'"
   ]
  },
  {
   "cell_type": "code",
   "execution_count": null,
   "metadata": {},
   "outputs": [],
   "source": [
    "m = folium.Map(location=[47.608013, -122.335167], default_zoom_start=11)\n",
    "\n",
    "folium.GeoJson(\n",
    "    kc_geo,\n",
    "    name='geojson'\n",
    ").add_to(m)"
   ]
  },
  {
   "cell_type": "code",
   "execution_count": null,
   "metadata": {},
   "outputs": [],
   "source": [
    "m.save(outfile = 'file.html')\n"
   ]
  },
  {
   "cell_type": "markdown",
   "metadata": {},
   "source": [
    "# Function to Create Map to show characteristics of Zipcodes"
   ]
  },
  {
   "cell_type": "code",
   "execution_count": null,
   "metadata": {},
   "outputs": [],
   "source": [
    "\n",
    "def create_map_Kc_County(df,col,legend ='Insert legend description'):\n",
    "    \"\"\"\n",
    "    Generates a folium map of Seattle\n",
    "    :param zipcode_data: zipcode dataset\n",
    "    :param col: feature to display\n",
    "    :param legend: Insert description for legend based on feature\n",
    "    :return: mp\n",
    "    \"\"\" \n",
    "    kc_geo = r'../data/cleaned_geodata.json'\n",
    "    mp = folium.Map(location=[47.608013, -122.335167], default_zoom_start=11)\n",
    "\n",
    "    folium.Choropleth(geo_data=kc_geo, \n",
    "                # my dataset                      \n",
    "                 data=df, \n",
    "                # zip code is here for matching the geojson zipcode, col changes the color of zipcode areas\n",
    "                 columns=['zipcode', col],\n",
    "                # this path contains zipcodes in str type, this zipcodes should match with our ZIP CODE column\n",
    "                 key_on='feature.properties.ZIPCODE', \n",
    "                 fill_color='Reds', legend_name=legend,fill_opacity=0.7, line_opacity=0.3).add_to(mp)\n",
    "   \n",
    "    mp.save(outfile = '../maps/'+ col + '.html')\n",
    "    \n",
    "\n",
    "\n"
   ]
  },
  {
   "cell_type": "markdown",
   "metadata": {},
   "source": [
    "# Create Map for number of houses per zipcode"
   ]
  },
  {
   "cell_type": "code",
   "execution_count": null,
   "metadata": {
    "scrolled": false
   },
   "outputs": [],
   "source": [
    "create_map_Kc_County(df=zipcodedf, col='count', legend = \"Number of Houses in Zipcode\" )"
   ]
  },
  {
   "cell_type": "code",
   "execution_count": null,
   "metadata": {},
   "outputs": [],
   "source": [
    "from IPython.display import Image\n",
    "Image(filename = '../Images/mapwithcounts.png', width=1000, height=1000)"
   ]
  },
  {
   "cell_type": "markdown",
   "metadata": {},
   "source": [
    "# Create Map for average house price"
   ]
  },
  {
   "cell_type": "code",
   "execution_count": null,
   "metadata": {},
   "outputs": [],
   "source": [
    "create_map_Kc_County(df=zipcodedf,col='median',legend = \"Average Price per home in zipcode\")"
   ]
  },
  {
   "cell_type": "code",
   "execution_count": null,
   "metadata": {},
   "outputs": [],
   "source": [
    "Image(filename = '../Images/mapwithprice.png', width=1000, height=1000)"
   ]
  },
  {
   "cell_type": "markdown",
   "metadata": {},
   "source": [
    "# Creating Map with markers for each house"
   ]
  },
  {
   "cell_type": "code",
   "execution_count": null,
   "metadata": {},
   "outputs": [],
   "source": [
    "mp = folium.Map(location=[47.610378, -122.200676], default_zoom_start=11)\n",
    "\n",
    "# add a marker for every record in the filtered data, use a clustered view\n",
    "marker_cluster = MarkerCluster().add_to(mp) # create marker clusters\n",
    "for i in range(df.shape[0]):\n",
    "    location = [df['lat'][i],df['long'][i]]\n",
    "    tooltip = f\"House ID: {df['id'][i]}\"\n",
    "\n",
    "    folium.Marker(location=location,tooltip=tooltip).add_to(marker_cluster)\n",
    "\n",
    "folium.Circle([47.610378, -122.200676],\n",
    "                    radius=15000\n",
    "                   ).add_to(mp)\n",
    "\n",
    "mp.save(outfile = '../maps/my_map.html')"
   ]
  },
  {
   "cell_type": "code",
   "execution_count": null,
   "metadata": {
    "scrolled": false
   },
   "outputs": [],
   "source": [
    "Image(filename = '../Images/distributionofhouses.png', width=1000, height=1000)"
   ]
  },
  {
   "cell_type": "code",
   "execution_count": null,
   "metadata": {},
   "outputs": [],
   "source": []
  },
  {
   "cell_type": "markdown",
   "metadata": {},
   "source": [
    "# Plotting Long and lat of each house to see distribution of House Price"
   ]
  },
  {
   "cell_type": "code",
   "execution_count": null,
   "metadata": {},
   "outputs": [],
   "source": [
    "plt.figure(figsize= (15,15))\n",
    "sns.scatterplot(x='long', y ='lat', data=df,hue='price')"
   ]
  },
  {
   "cell_type": "markdown",
   "metadata": {},
   "source": [
    "# Removing price outliers"
   ]
  },
  {
   "cell_type": "code",
   "execution_count": null,
   "metadata": {},
   "outputs": [],
   "source": [
    "def remove_outliers(df, col, threshold = 3):\n",
    "    zscores = scs.zscore(df[col])\n",
    "    indices = np.abs(np.where(zscores > threshold))\n",
    "    return indices[0]\n",
    "\n",
    "check_col = ['price']\n",
    "\n",
    "all_indices = []\n",
    "for col in check_col:\n",
    "    indices = remove_outliers(df, col, threshold = 3)\n",
    "    all_indices.extend(indices)\n",
    "all_indices = np.unique(all_indices)"
   ]
  },
  {
   "cell_type": "code",
   "execution_count": null,
   "metadata": {},
   "outputs": [],
   "source": [
    "df.drop(all_indices, axis=0,inplace = True)"
   ]
  },
  {
   "cell_type": "code",
   "execution_count": null,
   "metadata": {},
   "outputs": [],
   "source": [
    "df.reset_index(inplace=True)"
   ]
  },
  {
   "cell_type": "code",
   "execution_count": null,
   "metadata": {},
   "outputs": [],
   "source": [
    "plt.figure(figsize= (15,15))\n",
    "sns.scatterplot(x='long', y ='lat', data=df,hue='price')"
   ]
  },
  {
   "cell_type": "markdown",
   "metadata": {},
   "source": [
    "**After dropping price outliers we have a better view of the distribution of house prices**"
   ]
  },
  {
   "cell_type": "code",
   "execution_count": null,
   "metadata": {},
   "outputs": [],
   "source": [
    "df.corr()['price']"
   ]
  },
  {
   "cell_type": "code",
   "execution_count": null,
   "metadata": {},
   "outputs": [],
   "source": [
    "df['price'].describe()"
   ]
  },
  {
   "cell_type": "markdown",
   "metadata": {},
   "source": [
    "# 10 Cheapest Zipcodes by House Price\n"
   ]
  },
  {
   "cell_type": "code",
   "execution_count": null,
   "metadata": {},
   "outputs": [],
   "source": [
    "ax = df.groupby('zipcode')['price'].median().sort_values(ascending = True)[:10].plot(kind='bar')\n",
    "\n",
    "ax.yaxis.set_major_formatter(mpl.ticker.StrMethodFormatter('{x:,.0f}'))\n",
    "plt.show()"
   ]
  },
  {
   "cell_type": "markdown",
   "metadata": {},
   "source": [
    "# 10 Expensive Zipcodes by House Price"
   ]
  },
  {
   "cell_type": "code",
   "execution_count": null,
   "metadata": {},
   "outputs": [],
   "source": [
    "ax = df.groupby('zipcode')['price'].median().sort_values(ascending = False)[:10].plot(kind='bar')\n",
    "ax.yaxis.set_major_formatter(mpl.ticker.StrMethodFormatter('{x:,.0f}'))\n",
    "plt.show()"
   ]
  },
  {
   "cell_type": "markdown",
   "metadata": {},
   "source": [
    "the Average house price in the 10 cheapest zipcodes is appoximatey USD 250,000\n",
    "\n",
    "In the 10 most expensive zipcodes, house prices range from an average of USD 800,000 to USD 1.2m\n",
    "\n",
    "This clearly shows the disaparity in house prices based on zipcodes, and that the zipcode has an effect on price"
   ]
  },
  {
   "cell_type": "code",
   "execution_count": null,
   "metadata": {},
   "outputs": [],
   "source": [
    "df.groupby('zipcode')['price'].median().sort_values(ascending = False)[:10]"
   ]
  },
  {
   "cell_type": "code",
   "execution_count": null,
   "metadata": {},
   "outputs": [],
   "source": [
    "zip98102 = df.loc[df['zipcode']==98102]"
   ]
  },
  {
   "cell_type": "code",
   "execution_count": null,
   "metadata": {},
   "outputs": [],
   "source": [
    "zip98102['price'].min()"
   ]
  },
  {
   "cell_type": "code",
   "execution_count": null,
   "metadata": {},
   "outputs": [],
   "source": [
    "zip98102['price'].max()"
   ]
  },
  {
   "cell_type": "code",
   "execution_count": null,
   "metadata": {},
   "outputs": [],
   "source": [
    "zip98102['price'].median()"
   ]
  },
  {
   "cell_type": "code",
   "execution_count": null,
   "metadata": {},
   "outputs": [],
   "source": [
    "dftop1000 = df.sort_values(by='price',ascending = False)[:1000]"
   ]
  },
  {
   "cell_type": "code",
   "execution_count": null,
   "metadata": {},
   "outputs": [],
   "source": [
    "mosthousesintop1000 = dftop1000.groupby('zipcode')['price'].count().sort_values(ascending = False)[:5]/1000"
   ]
  },
  {
   "cell_type": "code",
   "execution_count": null,
   "metadata": {},
   "outputs": [],
   "source": [
    "mosthousesintop1000.plot(kind='barh')"
   ]
  },
  {
   "cell_type": "code",
   "execution_count": null,
   "metadata": {},
   "outputs": [],
   "source": []
  },
  {
   "cell_type": "code",
   "execution_count": null,
   "metadata": {},
   "outputs": [],
   "source": []
  }
 ],
 "metadata": {
  "kernelspec": {
   "display_name": "Python 3",
   "language": "python",
   "name": "python3"
  },
  "language_info": {
   "codemirror_mode": {
    "name": "ipython",
    "version": 3
   },
   "file_extension": ".py",
   "mimetype": "text/x-python",
   "name": "python",
   "nbconvert_exporter": "python",
   "pygments_lexer": "ipython3",
   "version": "3.6.9"
  }
 },
 "nbformat": 4,
 "nbformat_minor": 2
}
